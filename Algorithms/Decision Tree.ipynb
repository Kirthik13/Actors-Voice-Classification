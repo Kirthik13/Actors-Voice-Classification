{
 "cells": [
  {
   "cell_type": "code",
   "execution_count": 7,
   "id": "dd0115fc",
   "metadata": {},
   "outputs": [
    {
     "name": "stdout",
     "output_type": "stream",
     "text": [
      "Decision Tree model accuracy(in %): 72.91666666666666\n"
     ]
    }
   ],
   "source": [
    "import pandas as pd\n",
    "import numpy as np\n",
    "from sklearn import tree\n",
    "import pydotplus\n",
    "from sklearn.tree import DecisionTreeClassifier\n",
    "import matplotlib.pyplot as plt\n",
    "import matplotlib.image as pltimg\n",
    "\n",
    "df = pd.read_csv('Actor_feature.csv')\n",
    "\n",
    "X = df.iloc[:,1:41]\n",
    "y = df['Actor']\n",
    "\n",
    "from sklearn.model_selection import train_test_split\n",
    "X_train, X_test, y_train, y_test = train_test_split(X, y, test_size=0.2, random_state=1)\n",
    "\n",
    "dtree = DecisionTreeClassifier()\n",
    "dtree = dtree.fit(X_train, y_train)\n",
    "\n",
    "y_pred = dtree.predict(X_test)\n",
    "\n",
    "from sklearn import metrics\n",
    "print(\"Decision Tree model accuracy(in %):\", metrics.accuracy_score(y_test, y_pred)*100)\n"
   ]
  },
  {
   "cell_type": "code",
   "execution_count": 8,
   "id": "13f2c24e",
   "metadata": {},
   "outputs": [
    {
     "data": {
      "text/plain": [
       "array([[ 38,   2,   6,   1,   1,   0,   2,   4,   1,   2],\n",
       "       [  4,  30,   6,   2,   2,   2,   1,   2,   1,   1],\n",
       "       [  5,   3,  64,   0,   5,   2,   4,   4,   1,   0],\n",
       "       [  0,   0,   3,  34,   0,   2,   1,   1,   0,   2],\n",
       "       [  0,   2,   1,   2,   7,   3,   0,   0,   0,   3],\n",
       "       [  0,   0,   0,   1,   0, 132,   0,   1,   0,   2],\n",
       "       [  2,   0,   2,   0,   0,  17,  39,   1,   4,   0],\n",
       "       [  0,   0,   9,   2,   2,   2,   2,  33,   1,   1],\n",
       "       [  1,   3,   0,   1,   3,   2,   0,   3,  59,   0],\n",
       "       [  6,   3,   6,   1,   2,   1,   1,   2,   1,  19]], dtype=int64)"
      ]
     },
     "execution_count": 8,
     "metadata": {},
     "output_type": "execute_result"
    }
   ],
   "source": [
    "confusion_matrix = metrics.confusion_matrix(y_test, y_pred)\n",
    "\n",
    "confusion_matrix"
   ]
  },
  {
   "cell_type": "code",
   "execution_count": null,
   "id": "15df5107",
   "metadata": {},
   "outputs": [],
   "source": []
  }
 ],
 "metadata": {
  "kernelspec": {
   "display_name": "Python 3 (ipykernel)",
   "language": "python",
   "name": "python3"
  },
  "language_info": {
   "codemirror_mode": {
    "name": "ipython",
    "version": 3
   },
   "file_extension": ".py",
   "mimetype": "text/x-python",
   "name": "python",
   "nbconvert_exporter": "python",
   "pygments_lexer": "ipython3",
   "version": "3.9.7"
  }
 },
 "nbformat": 4,
 "nbformat_minor": 5
}
