{
 "cells": [
  {
   "cell_type": "code",
   "execution_count": 1,
   "id": "4967e07c",
   "metadata": {},
   "outputs": [
    {
     "name": "stdout",
     "output_type": "stream",
     "text": [
      "KNN model accuracy(in %): 69.55128205128204\n"
     ]
    }
   ],
   "source": [
    "import pandas as pd\n",
    "from sklearn.neighbors import KNeighborsClassifier\n",
    "from sklearn.model_selection import train_test_split\n",
    "\n",
    "df = pd.read_csv('Actor_feature.csv')\n",
    "\n",
    "X = df.iloc[:,1:41]\n",
    "y = df['Actor']\n",
    "\n",
    "X_train, X_test, y_train, y_test = train_test_split(\n",
    "             X, y, test_size = 0.2, random_state=42)\n",
    " \n",
    "knn = KNeighborsClassifier(n_neighbors=7)\n",
    " \n",
    "knn.fit(X_train, y_train)\n",
    "\n",
    "y_pred=knn.predict(X_test)\n",
    "\n",
    "from sklearn import metrics\n",
    "print(\"KNN model accuracy(in %):\", metrics.accuracy_score(y_test, y_pred)*100)"
   ]
  },
  {
   "cell_type": "code",
   "execution_count": 2,
   "id": "acf192f2",
   "metadata": {},
   "outputs": [
    {
     "data": {
      "text/plain": [
       "array([[53,  1,  5,  0,  0,  0,  0,  4,  0,  2],\n",
       "       [ 3, 40, 13,  0,  1,  0,  2,  2,  0,  2],\n",
       "       [ 3,  4, 72,  0,  1,  0,  0,  1,  0,  4],\n",
       "       [ 2,  3,  1, 29,  0,  4,  0,  1,  2,  1],\n",
       "       [ 4,  2,  2,  0,  7,  0,  0,  0,  0,  1],\n",
       "       [ 3,  0,  1,  3,  0, 88, 10,  3,  8,  0],\n",
       "       [ 1,  0,  1,  2,  1, 18, 35,  1,  3,  0],\n",
       "       [ 4,  1,  3,  3,  0,  5,  0, 28,  0,  3],\n",
       "       [ 2,  0,  1,  1,  1,  8,  4,  3, 55,  2],\n",
       "       [12,  0,  8,  0,  0,  0,  0,  3,  0, 27]], dtype=int64)"
      ]
     },
     "execution_count": 2,
     "metadata": {},
     "output_type": "execute_result"
    }
   ],
   "source": [
    "confusion_matrix = metrics.confusion_matrix(y_test, y_pred)\n",
    "\n",
    "confusion_matrix"
   ]
  },
  {
   "cell_type": "code",
   "execution_count": null,
   "id": "a7ab0c48",
   "metadata": {},
   "outputs": [],
   "source": []
  }
 ],
 "metadata": {
  "kernelspec": {
   "display_name": "Python 3 (ipykernel)",
   "language": "python",
   "name": "python3"
  },
  "language_info": {
   "codemirror_mode": {
    "name": "ipython",
    "version": 3
   },
   "file_extension": ".py",
   "mimetype": "text/x-python",
   "name": "python",
   "nbconvert_exporter": "python",
   "pygments_lexer": "ipython3",
   "version": "3.9.7"
  }
 },
 "nbformat": 4,
 "nbformat_minor": 5
}
