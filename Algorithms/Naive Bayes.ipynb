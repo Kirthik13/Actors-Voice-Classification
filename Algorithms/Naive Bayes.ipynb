{
 "cells": [
  {
   "cell_type": "code",
   "execution_count": 13,
   "id": "65dc4220",
   "metadata": {},
   "outputs": [
    {
     "name": "stdout",
     "output_type": "stream",
     "text": [
      "Gaussian Naive Bayes model accuracy(in %): 63.46153846153846\n"
     ]
    }
   ],
   "source": [
    "import pandas as pd\n",
    "import numpy as np\n",
    "\n",
    "df = pd.read_csv('Actor_feature.csv')\n",
    "\n",
    "X = df.iloc[:,1:41]\n",
    "y = df['Actor']\n",
    "\n",
    "from sklearn.model_selection import train_test_split\n",
    "X_train, X_test, y_train, y_test = train_test_split(X, y, test_size=0.2, random_state=1)\n",
    "\n",
    "from sklearn.naive_bayes import GaussianNB\n",
    "gnb = GaussianNB()\n",
    "gnb.fit(X_train, y_train)\n",
    "\n",
    "y_pred = gnb.predict(X_test)\n",
    "\n",
    "from sklearn import metrics\n",
    "print(\"Gaussian Naive Bayes model accuracy(in %):\", metrics.accuracy_score(y_test, y_pred)*100)\n",
    "\n"
   ]
  },
  {
   "cell_type": "code",
   "execution_count": 26,
   "id": "56e0c3fb",
   "metadata": {},
   "outputs": [
    {
     "data": {
      "text/plain": [
       "array([[ 48,   1,   2,   1,   1,   0,   0,   1,   0,   3],\n",
       "       [  5,  35,   3,   0,   4,   0,   0,   4,   0,   0],\n",
       "       [  5,   1,  72,   2,   2,   0,   0,   3,   0,   3],\n",
       "       [  1,   1,   1,   6,   1,  13,   0,   2,  15,   3],\n",
       "       [  2,   2,   5,   0,   9,   0,   0,   0,   0,   0],\n",
       "       [  0,   1,   0,   1,   1, 108,   8,   2,  14,   1],\n",
       "       [  2,   1,   0,   1,   0,  24,  31,   0,   6,   0],\n",
       "       [  9,   2,  13,   1,   1,   7,   1,  12,   5,   1],\n",
       "       [  4,   1,   3,   1,   1,   4,   2,   3,  52,   1],\n",
       "       [  9,   5,   2,   0,   0,   0,   1,   2,   0,  23]], dtype=int64)"
      ]
     },
     "execution_count": 26,
     "metadata": {},
     "output_type": "execute_result"
    }
   ],
   "source": [
    "confusion_matrix = metrics.confusion_matrix(y_test, y_pred)\n",
    "\n",
    "confusion_matrix"
   ]
  },
  {
   "cell_type": "code",
   "execution_count": null,
   "id": "5932e00f",
   "metadata": {},
   "outputs": [],
   "source": []
  }
 ],
 "metadata": {
  "kernelspec": {
   "display_name": "Python 3 (ipykernel)",
   "language": "python",
   "name": "python3"
  },
  "language_info": {
   "codemirror_mode": {
    "name": "ipython",
    "version": 3
   },
   "file_extension": ".py",
   "mimetype": "text/x-python",
   "name": "python",
   "nbconvert_exporter": "python",
   "pygments_lexer": "ipython3",
   "version": "3.9.7"
  }
 },
 "nbformat": 4,
 "nbformat_minor": 5
}
