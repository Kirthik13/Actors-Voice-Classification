{
 "cells": [
  {
   "cell_type": "code",
   "execution_count": 7,
   "id": "cbb9fe7d",
   "metadata": {},
   "outputs": [],
   "source": [
    "import pandas as pd\n",
    "import matplotlib.pyplot as plt\n",
    "from sklearn import svm, datasets\n",
    "from sklearn.svm import SVC \n",
    "\n",
    "df = pd.read_csv('../Actor_feature.csv')\n",
    "\n",
    "X = df.iloc[:,1:41]\n",
    "y = df['Actor']\n",
    "\n",
    "from sklearn.model_selection import train_test_split\n",
    "X_train, X_test, y_train, y_test = train_test_split(X, y, test_size=0.2, random_state=1)"
   ]
  },
  {
   "cell_type": "code",
   "execution_count": 8,
   "id": "9016b1e4",
   "metadata": {},
   "outputs": [
    {
     "data": {
      "text/plain": [
       "SVC(kernel='linear')"
      ]
     },
     "execution_count": 8,
     "metadata": {},
     "output_type": "execute_result"
    }
   ],
   "source": [
    "\n",
    "clf = SVC(kernel='linear') \n",
    "   \n",
    "clf.fit(X_train, y_train)"
   ]
  },
  {
   "cell_type": "code",
   "execution_count": 9,
   "id": "dcc61d6e",
   "metadata": {},
   "outputs": [],
   "source": [
    "y_pred = clf.predict(X_test)"
   ]
  },
  {
   "cell_type": "code",
   "execution_count": 10,
   "id": "fbc92880",
   "metadata": {},
   "outputs": [
    {
     "name": "stdout",
     "output_type": "stream",
     "text": [
      "SVM model accuracy(in %): 76.4423076923077\n"
     ]
    }
   ],
   "source": [
    "from sklearn import metrics\n",
    "print(\"SVM model accuracy(in %):\", metrics.accuracy_score(y_test, y_pred)*100)"
   ]
  },
  {
   "cell_type": "code",
   "execution_count": 11,
   "id": "0f4c53ff",
   "metadata": {},
   "outputs": [
    {
     "data": {
      "text/plain": [
       "array([[ 51,   1,   2,   0,   0,   2,   0,   0,   0,   1],\n",
       "       [  1,  40,   2,   1,   3,   1,   1,   0,   0,   2],\n",
       "       [  8,   3,  67,   0,   0,   2,   0,   1,   4,   3],\n",
       "       [  2,   0,   1,  35,   0,   2,   0,   1,   0,   2],\n",
       "       [  2,   3,   2,   1,   7,   0,   1,   0,   2,   0],\n",
       "       [  1,   0,   1,   1,   0, 118,  10,   1,   4,   0],\n",
       "       [  0,   0,   0,   5,   0,  12,  45,   0,   3,   0],\n",
       "       [  2,   1,   7,   1,   0,   2,   3,  34,   1,   1],\n",
       "       [  0,   2,   1,   1,   1,   4,   4,   1,  56,   2],\n",
       "       [  4,   2,   4,   1,   1,   0,   2,   1,   3,  24]], dtype=int64)"
      ]
     },
     "execution_count": 11,
     "metadata": {},
     "output_type": "execute_result"
    }
   ],
   "source": [
    "confusion_matrix = metrics.confusion_matrix(y_test, y_pred)\n",
    "\n",
    "confusion_matrix"
   ]
  },
  {
   "cell_type": "code",
   "execution_count": null,
   "id": "6d10c467",
   "metadata": {},
   "outputs": [],
   "source": []
  }
 ],
 "metadata": {
  "kernelspec": {
   "display_name": "Python 3 (ipykernel)",
   "language": "python",
   "name": "python3"
  },
  "language_info": {
   "codemirror_mode": {
    "name": "ipython",
    "version": 3
   },
   "file_extension": ".py",
   "mimetype": "text/x-python",
   "name": "python",
   "nbconvert_exporter": "python",
   "pygments_lexer": "ipython3",
   "version": "3.9.7"
  }
 },
 "nbformat": 4,
 "nbformat_minor": 5
}
