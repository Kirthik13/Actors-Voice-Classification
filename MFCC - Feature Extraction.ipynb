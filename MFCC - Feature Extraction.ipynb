{
 "cells": [
  {
   "cell_type": "code",
   "execution_count": 1,
   "id": "69d98d5d",
   "metadata": {},
   "outputs": [],
   "source": [
    "import pandas as pd\n",
    "df = pd.read_csv('./Actors.csv')"
   ]
  },
  {
   "cell_type": "code",
   "execution_count": 2,
   "id": "40080fec",
   "metadata": {},
   "outputs": [
    {
     "data": {
      "text/html": [
       "<div>\n",
       "<style scoped>\n",
       "    .dataframe tbody tr th:only-of-type {\n",
       "        vertical-align: middle;\n",
       "    }\n",
       "\n",
       "    .dataframe tbody tr th {\n",
       "        vertical-align: top;\n",
       "    }\n",
       "\n",
       "    .dataframe thead th {\n",
       "        text-align: right;\n",
       "    }\n",
       "</style>\n",
       "<table border=\"1\" class=\"dataframe\">\n",
       "  <thead>\n",
       "    <tr style=\"text-align: right;\">\n",
       "      <th></th>\n",
       "      <th>File_name</th>\n",
       "      <th>Lable</th>\n",
       "    </tr>\n",
       "  </thead>\n",
       "  <tbody>\n",
       "    <tr>\n",
       "      <th>0</th>\n",
       "      <td>ajith (1).wav</td>\n",
       "      <td>Ajith</td>\n",
       "    </tr>\n",
       "    <tr>\n",
       "      <th>1</th>\n",
       "      <td>ajith (2).wav</td>\n",
       "      <td>Ajith</td>\n",
       "    </tr>\n",
       "    <tr>\n",
       "      <th>2</th>\n",
       "      <td>ajith (3).wav</td>\n",
       "      <td>Ajith</td>\n",
       "    </tr>\n",
       "    <tr>\n",
       "      <th>3</th>\n",
       "      <td>ajith (4).wav</td>\n",
       "      <td>Ajith</td>\n",
       "    </tr>\n",
       "    <tr>\n",
       "      <th>4</th>\n",
       "      <td>ajith (5).wav</td>\n",
       "      <td>Ajith</td>\n",
       "    </tr>\n",
       "    <tr>\n",
       "      <th>...</th>\n",
       "      <td>...</td>\n",
       "      <td>...</td>\n",
       "    </tr>\n",
       "    <tr>\n",
       "      <th>3113</th>\n",
       "      <td>VJS (224).wav</td>\n",
       "      <td>Vjs</td>\n",
       "    </tr>\n",
       "    <tr>\n",
       "      <th>3114</th>\n",
       "      <td>VJS (225).wav</td>\n",
       "      <td>Vjs</td>\n",
       "    </tr>\n",
       "    <tr>\n",
       "      <th>3115</th>\n",
       "      <td>VJS (226).wav</td>\n",
       "      <td>Vjs</td>\n",
       "    </tr>\n",
       "    <tr>\n",
       "      <th>3116</th>\n",
       "      <td>VJS (227).wav</td>\n",
       "      <td>Vjs</td>\n",
       "    </tr>\n",
       "    <tr>\n",
       "      <th>3117</th>\n",
       "      <td>VJS (228).wav</td>\n",
       "      <td>Vjs</td>\n",
       "    </tr>\n",
       "  </tbody>\n",
       "</table>\n",
       "<p>3118 rows × 2 columns</p>\n",
       "</div>"
      ],
      "text/plain": [
       "          File_name  Lable\n",
       "0     ajith (1).wav  Ajith\n",
       "1     ajith (2).wav  Ajith\n",
       "2     ajith (3).wav  Ajith\n",
       "3     ajith (4).wav  Ajith\n",
       "4     ajith (5).wav  Ajith\n",
       "...             ...    ...\n",
       "3113  VJS (224).wav    Vjs\n",
       "3114  VJS (225).wav    Vjs\n",
       "3115  VJS (226).wav    Vjs\n",
       "3116  VJS (227).wav    Vjs\n",
       "3117  VJS (228).wav    Vjs\n",
       "\n",
       "[3118 rows x 2 columns]"
      ]
     },
     "execution_count": 2,
     "metadata": {},
     "output_type": "execute_result"
    }
   ],
   "source": [
    "import numpy as np\n",
    "df"
   ]
  },
  {
   "cell_type": "code",
   "execution_count": 3,
   "id": "f1919017",
   "metadata": {},
   "outputs": [],
   "source": [
    "from sklearn.metrics import confusion_matrix\n",
    "from keras.layers import Conv2D, MaxPool2D, Flatten, Dense, Dropout\n",
    "from keras.models import Sequential\n",
    "import matplotlib.pyplot as plt\n",
    "import seaborn as sns\n"
   ]
  },
  {
   "cell_type": "code",
   "execution_count": 4,
   "id": "53d53aec",
   "metadata": {},
   "outputs": [
    {
     "name": "stderr",
     "output_type": "stream",
     "text": [
      "C:\\Users\\user\\anaconda3\\lib\\site-packages\\seaborn\\_decorators.py:36: FutureWarning: Pass the following variable as a keyword arg: x. From version 0.12, the only valid positional argument will be `data`, and passing other arguments without an explicit keyword will result in an error or misinterpretation.\n",
      "  warnings.warn(\n"
     ]
    },
    {
     "data": {
      "image/png": "[encoded data removed]",
      "text/plain": [
       "<Figure size 720x432 with 1 Axes>"
      ]
     },
     "metadata": {
      "needs_background": "light"
     },
     "output_type": "display_data"
    }
   ],
   "source": [
    "import seaborn as sns\n",
    "plt.figure(figsize=(10, 6))\n",
    "sns.countplot(df['Lable'])\n",
    "plt.title(\"Count of records in each class\")\n",
    "plt.xticks(rotation=\"vertical\")\n",
    "plt.show()"
   ]
  },
  {
   "cell_type": "code",
   "execution_count": 5,
   "id": "a04c7abe",
   "metadata": {},
   "outputs": [],
   "source": [
    "def features_extractor(file):\n",
    "    audio, sample_rate = librosa.load(file_name, res_type='kaiser_fast') \n",
    "    mfccs_features = librosa.feature.mfcc(y=audio, sr=sample_rate, n_mfcc=40)\n",
    "    mfccs_scaled_features = np.mean(mfccs_features.T,axis=0)\n",
    "    return mfccs_scaled_features"
   ]
  },
  {
   "cell_type": "code",
   "execution_count": 6,
   "id": "d9c133ba",
   "metadata": {},
   "outputs": [
    {
     "name": "stderr",
     "output_type": "stream",
     "text": [
      "1it [00:32, 32.95s/it]C:\\Users\\user\\anaconda3\\lib\\site-packages\\librosa\\util\\decorators.py:88: UserWarning: PySoundFile failed. Trying audioread instead.\n",
      "  return f(*args, **kwargs)\n",
      "3118it [23:44,  2.19it/s]\n"
     ]
    }
   ],
   "source": [
    "import librosa\n",
    "from tqdm import tqdm\n",
    "extracted_features=[]\n",
    "for index_num,row in tqdm(df.iterrows()):\n",
    "    #path+ df['Lable'].iloc[i]+ '/'+ df['File_name'].iloc[i]\n",
    "    file_name = './'+str(row[\"Lable\"])+'/'+str(row[\"File_name\"])\n",
    "    final_class_labels=str(row[\"Lable\"])\n",
    "    data=features_extractor(file_name)\n",
    "    extracted_features.append([data,final_class_labels])"
   ]
  },
  {
   "cell_type": "code",
   "execution_count": 7,
   "id": "dd53331a",
   "metadata": {},
   "outputs": [
    {
     "data": {
      "text/html": [
       "<div>\n",
       "<style scoped>\n",
       "    .dataframe tbody tr th:only-of-type {\n",
       "        vertical-align: middle;\n",
       "    }\n",
       "\n",
       "    .dataframe tbody tr th {\n",
       "        vertical-align: top;\n",
       "    }\n",
       "\n",
       "    .dataframe thead th {\n",
       "        text-align: right;\n",
       "    }\n",
       "</style>\n",
       "<table border=\"1\" class=\"dataframe\">\n",
       "  <thead>\n",
       "    <tr style=\"text-align: right;\">\n",
       "      <th></th>\n",
       "      <th>feature</th>\n",
       "      <th>class</th>\n",
       "    </tr>\n",
       "  </thead>\n",
       "  <tbody>\n",
       "    <tr>\n",
       "      <th>0</th>\n",
       "      <td>[-96.46202, 120.98026, -13.136194, 32.51784, -...</td>\n",
       "      <td>Ajith</td>\n",
       "    </tr>\n",
       "    <tr>\n",
       "      <th>1</th>\n",
       "      <td>[-177.50673, 114.59962, -15.159489, 28.136223,...</td>\n",
       "      <td>Ajith</td>\n",
       "    </tr>\n",
       "    <tr>\n",
       "      <th>2</th>\n",
       "      <td>[-167.54503, 119.68055, 0.7810209, 43.53969, 1...</td>\n",
       "      <td>Ajith</td>\n",
       "    </tr>\n",
       "    <tr>\n",
       "      <th>3</th>\n",
       "      <td>[-176.82582, 104.19141, -3.9628088, 36.91024, ...</td>\n",
       "      <td>Ajith</td>\n",
       "    </tr>\n",
       "    <tr>\n",
       "      <th>4</th>\n",
       "      <td>[-118.63702, 105.61698, -4.516064, 32.764156, ...</td>\n",
       "      <td>Ajith</td>\n",
       "    </tr>\n",
       "  </tbody>\n",
       "</table>\n",
       "</div>"
      ],
      "text/plain": [
       "                                             feature  class\n",
       "0  [-96.46202, 120.98026, -13.136194, 32.51784, -...  Ajith\n",
       "1  [-177.50673, 114.59962, -15.159489, 28.136223,...  Ajith\n",
       "2  [-167.54503, 119.68055, 0.7810209, 43.53969, 1...  Ajith\n",
       "3  [-176.82582, 104.19141, -3.9628088, 36.91024, ...  Ajith\n",
       "4  [-118.63702, 105.61698, -4.516064, 32.764156, ...  Ajith"
      ]
     },
     "execution_count": 7,
     "metadata": {},
     "output_type": "execute_result"
    }
   ],
   "source": [
    "extracted_features_df=pd.DataFrame(extracted_features,columns=['feature','class'])\n",
    "extracted_features_df.head()"
   ]
  },
  {
   "cell_type": "code",
   "execution_count": 27,
   "id": "d38d079c",
   "metadata": {},
   "outputs": [
    {
     "data": {
      "text/plain": [
       "0       [-96.46202, 120.98026, -13.136194, 32.51784, -...\n",
       "1       [-177.50673, 114.59962, -15.159489, 28.136223,...\n",
       "2       [-167.54503, 119.68055, 0.7810209, 43.53969, 1...\n",
       "3       [-176.82582, 104.19141, -3.9628088, 36.91024, ...\n",
       "4       [-118.63702, 105.61698, -4.516064, 32.764156, ...\n",
       "                              ...                        \n",
       "3113    [-169.70229, 200.3103, -45.811256, 36.43981, 1...\n",
       "3114    [-49.119003, 92.658165, -2.2406955, 28.012579,...\n",
       "3115    [-201.14825, 215.14545, -74.42116, 31.135, 4.2...\n",
       "3116    [-198.12184, 216.14163, -45.116287, 20.650446,...\n",
       "3117    [-215.32394, 225.84468, -44.28205, 18.792059, ...\n",
       "Name: feature, Length: 3118, dtype: object"
      ]
     },
     "execution_count": 27,
     "metadata": {},
     "output_type": "execute_result"
    }
   ],
   "source": [
    "# df is a pandas dataframe\n",
    "# default parameters pandas Series.str.split() function\n",
    "extracted_features_df['feature'].str.split(',', expand=False)\n",
    "extracted_features_df['feature']"
   ]
  },
  {
   "cell_type": "code",
   "execution_count": 31,
   "id": "bc354ccc",
   "metadata": {},
   "outputs": [],
   "source": [
    "dfs = pd.DataFrame(extracted_features_df.iloc[:,0].to_list())\n",
    "dfs.to_csv('Actor_Feature.csv',header=True)"
   ]
  }
 ],
 "metadata": {
  "kernelspec": {
   "display_name": "Python 3 (ipykernel)",
   "language": "python",
   "name": "python3"
  },
  "language_info": {
   "codemirror_mode": {
    "name": "ipython",
    "version": 3
   },
   "file_extension": ".py",
   "mimetype": "text/x-python",
   "name": "python",
   "nbconvert_exporter": "python",
   "pygments_lexer": "ipython3",
   "version": "3.9.7"
  }
 },
 "nbformat": 4,
 "nbformat_minor": 5
}
